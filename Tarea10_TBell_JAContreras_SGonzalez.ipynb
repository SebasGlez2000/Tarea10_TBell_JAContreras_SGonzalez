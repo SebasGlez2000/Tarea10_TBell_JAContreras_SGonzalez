{
 "cells": [
  {
   "cell_type": "markdown",
   "id": "8c8fa626",
   "metadata": {},
   "source": [
    "<img style=\"float: left; margin: 30px 15px 15px 15px;\" src=\"https://pngimage.net/wp-content/uploads/2018/06/logo-iteso-png-5.png\" width=\"300\" height=\"500\" /> \n",
    "    \n",
    "    \n",
    "### <font color='navy'> Simulación de procesos financieros. \n",
    "\n",
    "**Nombres:** Sebastián González, José Antonio Contreras Peña y Tania Bell Nicholls\n",
    "\n",
    "**Fecha:** 23 de noviembre del 2021.\n",
    "\n",
    "**Expediente** : IF726767 y .\n",
    "**Profesor:** Oscar David Jaramillo Zuluaga.\n",
    "    \n",
    "**Link Github**: https://github.com/Tania-Bell/Tarea10_TBell_JAContreras_SGonzalez.git\n",
    "\n",
    "# Tarea 10: Clase 23"
   ]
  },
  {
   "cell_type": "markdown",
   "id": "bb388b84",
   "metadata": {},
   "source": [
    "## Enunciado de tarea \n",
    "\n",
    "Realizar la valuación de las opciones barrera para las acciones de Microsoft, siguiendo los siguientes lineamientos:\n",
    "1. Realizar la valuación para el tipo de opción barrera 'CALL'- down-and-out, usando la suposición de rendimientos normales y usando el método del histograma. Para ambas valuaciones, comparar los resultados de la evaluación obtenida con los resultados obtenidos por la valuación Europea. Como se realizó en clase.\n",
    "2. Repetir el inciso anterior pero en esta ocasión para el caso de 'PUT'- Up-and-out.\n",
    "\n",
    "**Nota:** Analice los datos descargados y según el método ya sea `down-and-out` o `Up-and-out` defina un strike price usando la volatility smile vista en la clase de opciones europeas y basado en el spot price y el strike defina una barrera adecuada.\n",
    "\n",
    "Se habilitará un enlace en canvas para subir un cuaderno de python, con la solución.\n",
    "\n",
    "**Criterio de revisión.**\n",
    "\n",
    "> Se te calificará de acuerdo a los resultados finales que reportes, basados en tu análisis."
   ]
  },
  {
   "cell_type": "markdown",
   "id": "1cd6051d",
   "metadata": {},
   "source": [
    "## Código de solución estudiante 1: Tania"
   ]
  },
  {
   "cell_type": "code",
   "execution_count": 1,
   "id": "c135f5c5",
   "metadata": {},
   "outputs": [],
   "source": [
    "#importar los paquetes que se van a usar\n",
    "import pandas as pd\n",
    "import pandas_datareader.data as web\n",
    "import numpy as np\n",
    "from sklearn.neighbors import KernelDensity\n",
    "import datetime\n",
    "from datetime import datetime, timedelta\n",
    "import scipy.stats as st\n",
    "import scipy as sp\n",
    "import scipy.optimize as optimize\n",
    "import scipy.cluster.hierarchy as hac\n",
    "import matplotlib.pyplot as plt\n",
    "import seaborn as sns\n",
    "import yfinance as yf\n",
    "from datetime import date\n",
    "%matplotlib inline\n",
    "#algunas opciones para Python\n",
    "pd.set_option('display.notebook_repr_html', True)\n",
    "pd.set_option('display.max_columns', 6)\n",
    "pd.set_option('display.max_rows', 10)\n",
    "pd.set_option('display.width', 78)\n",
    "pd.set_option('precision', 3)"
   ]
  },
  {
   "cell_type": "code",
   "execution_count": 2,
   "id": "e5518f34",
   "metadata": {},
   "outputs": [],
   "source": [
    "import datetime\n",
    "# Función para descargar precios de cierre ajustados:\n",
    "def get_adj_closes(tickers, start_date=None, end_date=None):\n",
    "    '''\n",
    "    Función que accede a los datos en yahoo dado tickers y la fecha de inicio y la fecha final\n",
    "    '''\n",
    "    # Fecha inicio por defecto (start_date='2010-01-01') y fecha fin por defecto (end_date=today)\n",
    "    # Descargamos DataFrame con todos los datos\n",
    "    closes = web.DataReader(name=tickers, data_source='yahoo', start=start_date, end=end_date)\n",
    "    # Solo necesitamos los precios ajustados en el cierre\n",
    "    closes = closes['Adj Close']\n",
    "    # Se ordenan los índices de manera ascendente\n",
    "    closes.sort_index(inplace=True)\n",
    "    return closes\n",
    "\n",
    "# Función para cálcular los rendimientos diarios\n",
    "def calc_daily_ret(closes):\n",
    "    '''\n",
    "    Función para calcular los rendimientos diarios de cierres de acciones\n",
    "    '''\n",
    "    return np.log(closes/closes.shift(1)).dropna()\n",
    "\n",
    "# Función opciones\n",
    "def options_chain(symbol):\n",
    "    '''\n",
    "    Función que obtiene los datos de yahoo finance usando yfinance dando un ticker\n",
    "    '''\n",
    "    tk = yf.Ticker(symbol)\n",
    "    # Expiration dates\n",
    "    exps = tk.options\n",
    "\n",
    "    # Get options for each expiration\n",
    "    options = pd.DataFrame()\n",
    "    for e in exps:\n",
    "        opt = tk.option_chain(e)\n",
    "        opt = pd.DataFrame().append(opt.calls).append(opt.puts)\n",
    "        opt['expirationDate'] = e\n",
    "        options = options.append(opt, ignore_index=True)\n",
    "\n",
    "    # Bizarre error in yfinance that gives the wrong expiration date\n",
    "    # Add 1 day to get the correct expiration date\n",
    "    options['expirationDate'] = pd.to_datetime(options['expirationDate']) + datetime.timedelta(days = 1)\n",
    "    options['dte'] = (options['expirationDate'] - datetime.datetime.today()).dt.days / 365\n",
    "    \n",
    "    # Boolean column if the option is a CALL\n",
    "    options['CALL'] = options['contractSymbol'].str[4:].apply(\n",
    "        lambda x: \"C\" in x)\n",
    "    \n",
    "    options[['bid', 'ask', 'strike']] = options[['bid', 'ask', 'strike']].apply(pd.to_numeric)\n",
    "    options['mark'] = (options['bid'] + options['ask']) / 2 # Calculate the midpoint of the bid-ask\n",
    "    \n",
    "    # Drop unnecessary and meaningless columns\n",
    "    options = options.drop(columns = ['contractSize', 'currency', 'change', 'percentChange', 'lastTradeDate', 'lastPrice'])\n",
    "\n",
    "    return options"
   ]
  },
  {
   "cell_type": "markdown",
   "id": "3839950f",
   "metadata": {},
   "source": [
    "#### Analizar datos de Microsoft"
   ]
  },
  {
   "cell_type": "code",
   "execution_count": 3,
   "id": "a5ce1bdd",
   "metadata": {},
   "outputs": [
    {
     "data": {
      "image/png": "[encoded data removed]",
      "text/plain": [
       "<Figure size 576x360 with 1 Axes>"
      ]
     },
     "metadata": {
      "needs_background": "light"
     },
     "output_type": "display_data"
    }
   ],
   "source": [
    "# importamos cierres diarios de la empresa\n",
    "ticker = ['MSFT']\n",
    "start_date = '2017-01-01'\n",
    "\n",
    "closes_msft = get_adj_closes(ticker, start_date)\n",
    "closes_msft.plot(figsize=(8,5));\n",
    "plt.legend(ticker);"
   ]
  },
  {
   "cell_type": "code",
   "execution_count": 4,
   "id": "09f1edfe",
   "metadata": {},
   "outputs": [
    {
     "data": {
      "text/plain": [
       "Symbols\n",
       "MSFT    329.68\n",
       "Name: 2021-11-26 00:00:00, dtype: float64"
      ]
     },
     "execution_count": 4,
     "metadata": {},
     "output_type": "execute_result"
    }
   ],
   "source": [
    "#ultimo cierre de la empresa\n",
    "closes_msft.iloc[-1]"
   ]
  },
  {
   "cell_type": "code",
   "execution_count": 5,
   "id": "461d51e6",
   "metadata": {},
   "outputs": [],
   "source": [
    "# calculamos los rendimientos diarios\n",
    "ret_msft = calc_daily_ret(closes_msft)\n",
    "# ret_msft.plot(figsize=(8,6));"
   ]
  },
  {
   "cell_type": "markdown",
   "id": "eef7f4f0",
   "metadata": {},
   "source": [
    "### Call:"
   ]
  },
  {
   "cell_type": "markdown",
   "id": "6f9a342a",
   "metadata": {},
   "source": [
    "#### Escoger opcion call"
   ]
  },
  {
   "cell_type": "code",
   "execution_count": 6,
   "id": "3cc39fc1",
   "metadata": {},
   "outputs": [
    {
     "data": {
      "text/html": [
       "<div>\n",
       "<style scoped>\n",
       "    .dataframe tbody tr th:only-of-type {\n",
       "        vertical-align: middle;\n",
       "    }\n",
       "\n",
       "    .dataframe tbody tr th {\n",
       "        vertical-align: top;\n",
       "    }\n",
       "\n",
       "    .dataframe thead th {\n",
       "        text-align: right;\n",
       "    }\n",
       "</style>\n",
       "<table border=\"1\" class=\"dataframe\">\n",
       "  <thead>\n",
       "    <tr style=\"text-align: right;\">\n",
       "      <th></th>\n",
       "      <th>contractSymbol</th>\n",
       "      <th>strike</th>\n",
       "      <th>bid</th>\n",
       "      <th>...</th>\n",
       "      <th>dte</th>\n",
       "      <th>CALL</th>\n",
       "      <th>mark</th>\n",
       "    </tr>\n",
       "  </thead>\n",
       "  <tbody>\n",
       "    <tr>\n",
       "      <th>0</th>\n",
       "      <td>MSFT211203C00225000</td>\n",
       "      <td>225.0</td>\n",
       "      <td>103.3</td>\n",
       "      <td>...</td>\n",
       "      <td>0.016</td>\n",
       "      <td>True</td>\n",
       "      <td>105.050</td>\n",
       "    </tr>\n",
       "    <tr>\n",
       "      <th>1</th>\n",
       "      <td>MSFT211203C00230000</td>\n",
       "      <td>230.0</td>\n",
       "      <td>98.3</td>\n",
       "      <td>...</td>\n",
       "      <td>0.016</td>\n",
       "      <td>True</td>\n",
       "      <td>100.050</td>\n",
       "    </tr>\n",
       "    <tr>\n",
       "      <th>2</th>\n",
       "      <td>MSFT211203C00235000</td>\n",
       "      <td>235.0</td>\n",
       "      <td>93.3</td>\n",
       "      <td>...</td>\n",
       "      <td>0.016</td>\n",
       "      <td>True</td>\n",
       "      <td>95.050</td>\n",
       "    </tr>\n",
       "    <tr>\n",
       "      <th>3</th>\n",
       "      <td>MSFT211203C00240000</td>\n",
       "      <td>240.0</td>\n",
       "      <td>88.3</td>\n",
       "      <td>...</td>\n",
       "      <td>0.016</td>\n",
       "      <td>True</td>\n",
       "      <td>90.050</td>\n",
       "    </tr>\n",
       "    <tr>\n",
       "      <th>4</th>\n",
       "      <td>MSFT211203C00245000</td>\n",
       "      <td>245.0</td>\n",
       "      <td>83.3</td>\n",
       "      <td>...</td>\n",
       "      <td>0.016</td>\n",
       "      <td>True</td>\n",
       "      <td>85.075</td>\n",
       "    </tr>\n",
       "    <tr>\n",
       "      <th>...</th>\n",
       "      <td>...</td>\n",
       "      <td>...</td>\n",
       "      <td>...</td>\n",
       "      <td>...</td>\n",
       "      <td>...</td>\n",
       "      <td>...</td>\n",
       "      <td>...</td>\n",
       "    </tr>\n",
       "    <tr>\n",
       "      <th>1861</th>\n",
       "      <td>MSFT240119P00450000</td>\n",
       "      <td>450.0</td>\n",
       "      <td>133.0</td>\n",
       "      <td>...</td>\n",
       "      <td>2.145</td>\n",
       "      <td>False</td>\n",
       "      <td>135.250</td>\n",
       "    </tr>\n",
       "    <tr>\n",
       "      <th>1862</th>\n",
       "      <td>MSFT240119P00460000</td>\n",
       "      <td>460.0</td>\n",
       "      <td>141.5</td>\n",
       "      <td>...</td>\n",
       "      <td>2.145</td>\n",
       "      <td>False</td>\n",
       "      <td>143.750</td>\n",
       "    </tr>\n",
       "    <tr>\n",
       "      <th>1863</th>\n",
       "      <td>MSFT240119P00470000</td>\n",
       "      <td>470.0</td>\n",
       "      <td>150.0</td>\n",
       "      <td>...</td>\n",
       "      <td>2.145</td>\n",
       "      <td>False</td>\n",
       "      <td>152.250</td>\n",
       "    </tr>\n",
       "    <tr>\n",
       "      <th>1864</th>\n",
       "      <td>MSFT240119P00480000</td>\n",
       "      <td>480.0</td>\n",
       "      <td>158.5</td>\n",
       "      <td>...</td>\n",
       "      <td>2.145</td>\n",
       "      <td>False</td>\n",
       "      <td>160.750</td>\n",
       "    </tr>\n",
       "    <tr>\n",
       "      <th>1865</th>\n",
       "      <td>MSFT240119P00500000</td>\n",
       "      <td>500.0</td>\n",
       "      <td>176.0</td>\n",
       "      <td>...</td>\n",
       "      <td>2.145</td>\n",
       "      <td>False</td>\n",
       "      <td>178.500</td>\n",
       "    </tr>\n",
       "  </tbody>\n",
       "</table>\n",
       "<p>1866 rows × 12 columns</p>\n",
       "</div>"
      ],
      "text/plain": [
       "           contractSymbol  strike    bid  ...    dte   CALL     mark\n",
       "0     MSFT211203C00225000   225.0  103.3  ...  0.016   True  105.050\n",
       "1     MSFT211203C00230000   230.0   98.3  ...  0.016   True  100.050\n",
       "2     MSFT211203C00235000   235.0   93.3  ...  0.016   True   95.050\n",
       "3     MSFT211203C00240000   240.0   88.3  ...  0.016   True   90.050\n",
       "4     MSFT211203C00245000   245.0   83.3  ...  0.016   True   85.075\n",
       "...                   ...     ...    ...  ...    ...    ...      ...\n",
       "1861  MSFT240119P00450000   450.0  133.0  ...  2.145  False  135.250\n",
       "1862  MSFT240119P00460000   460.0  141.5  ...  2.145  False  143.750\n",
       "1863  MSFT240119P00470000   470.0  150.0  ...  2.145  False  152.250\n",
       "1864  MSFT240119P00480000   480.0  158.5  ...  2.145  False  160.750\n",
       "1865  MSFT240119P00500000   500.0  176.0  ...  2.145  False  178.500\n",
       "\n",
       "[1866 rows x 12 columns]"
      ]
     },
     "execution_count": 6,
     "metadata": {},
     "output_type": "execute_result"
    }
   ],
   "source": [
    "#importamos información de opciones de la empresa para escoger nuestro put\n",
    "msft_opt = options_chain('MSFT')\n",
    "msft_opt"
   ]
  },
  {
   "cell_type": "code",
   "execution_count": 9,
   "id": "94cdd686",
   "metadata": {},
   "outputs": [
    {
     "data": {
      "text/html": [
       "<div>\n",
       "<style scoped>\n",
       "    .dataframe tbody tr th:only-of-type {\n",
       "        vertical-align: middle;\n",
       "    }\n",
       "\n",
       "    .dataframe tbody tr th {\n",
       "        vertical-align: top;\n",
       "    }\n",
       "\n",
       "    .dataframe thead th {\n",
       "        text-align: right;\n",
       "    }\n",
       "</style>\n",
       "<table border=\"1\" class=\"dataframe\">\n",
       "  <thead>\n",
       "    <tr style=\"text-align: right;\">\n",
       "      <th></th>\n",
       "      <th>contractSymbol</th>\n",
       "      <th>strike</th>\n",
       "      <th>bid</th>\n",
       "      <th>...</th>\n",
       "      <th>dte</th>\n",
       "      <th>CALL</th>\n",
       "      <th>mark</th>\n",
       "    </tr>\n",
       "  </thead>\n",
       "  <tbody>\n",
       "    <tr>\n",
       "      <th>1208</th>\n",
       "      <td>MSFT220916C00350000</td>\n",
       "      <td>350.0</td>\n",
       "      <td>24.35</td>\n",
       "      <td>...</td>\n",
       "      <td>0.803</td>\n",
       "      <td>True</td>\n",
       "      <td>24.975</td>\n",
       "    </tr>\n",
       "  </tbody>\n",
       "</table>\n",
       "<p>1 rows × 12 columns</p>\n",
       "</div>"
      ],
      "text/plain": [
       "           contractSymbol  strike    bid  ...    dte  CALL    mark\n",
       "1208  MSFT220916C00350000   350.0  24.35  ...  0.803  True  24.975\n",
       "\n",
       "[1 rows x 12 columns]"
      ]
     },
     "execution_count": 9,
     "metadata": {},
     "output_type": "execute_result"
    }
   ],
   "source": [
    "# opción que quiero evaluar\n",
    "K = 350.0 # strike price\n",
    "indice_opt = msft_opt.loc[(msft_opt.CALL==True) & (msft_opt.strike==K) & (msft_opt.expirationDate=='2022-09-17 00:00:00')]\n",
    "indice_opt"
   ]
  },
  {
   "cell_type": "code",
   "execution_count": 10,
   "id": "8ca8a26b",
   "metadata": {},
   "outputs": [
    {
     "data": {
      "text/plain": [
       "contractSymbol    MSFT220916C00350000\n",
       "strike                          350.0\n",
       "bid                             24.35\n",
       "ask                              25.6\n",
       "volume                           45.0\n",
       "                         ...         \n",
       "inTheMoney                      False\n",
       "expirationDate    2022-09-17 00:00:00\n",
       "dte                             0.803\n",
       "CALL                             True\n",
       "mark                           24.975\n",
       "Name: 1208, Length: 12, dtype: object"
      ]
     },
     "execution_count": 10,
     "metadata": {},
     "output_type": "execute_result"
    }
   ],
   "source": [
    "opt_valuar = indice_opt.loc[1208]\n",
    "opt_valuar"
   ]
  },
  {
   "cell_type": "markdown",
   "id": "e2699eb3",
   "metadata": {},
   "source": [
    "#### Simulación de precios"
   ]
  },
  {
   "cell_type": "code",
   "execution_count": 11,
   "id": "3fcef2ae",
   "metadata": {},
   "outputs": [
    {
     "data": {
      "text/plain": [
       "(0.0014055802276222737, 0.01733517971343132, 5.833333333333333e-06)"
      ]
     },
     "execution_count": 11,
     "metadata": {},
     "output_type": "execute_result"
    }
   ],
   "source": [
    "mu = ret_msft['MSFT'].mean()\n",
    "sigma = ret_msft['MSFT'].std()\n",
    "r = 0.0021/360\n",
    "mu, sigma, r"
   ]
  },
  {
   "cell_type": "code",
   "execution_count": 12,
   "id": "57f20181",
   "metadata": {},
   "outputs": [
    {
     "data": {
      "text/html": [
       "<div>\n",
       "<style scoped>\n",
       "    .dataframe tbody tr th:only-of-type {\n",
       "        vertical-align: middle;\n",
       "    }\n",
       "\n",
       "    .dataframe tbody tr th {\n",
       "        vertical-align: top;\n",
       "    }\n",
       "\n",
       "    .dataframe thead th {\n",
       "        text-align: right;\n",
       "    }\n",
       "</style>\n",
       "<table border=\"1\" class=\"dataframe\">\n",
       "  <thead>\n",
       "    <tr style=\"text-align: right;\">\n",
       "      <th></th>\n",
       "      <th>0</th>\n",
       "      <th>1</th>\n",
       "      <th>2</th>\n",
       "      <th>...</th>\n",
       "      <th>997</th>\n",
       "      <th>998</th>\n",
       "      <th>999</th>\n",
       "    </tr>\n",
       "  </thead>\n",
       "  <tbody>\n",
       "    <tr>\n",
       "      <th>2021-11-29</th>\n",
       "      <td>336.069</td>\n",
       "      <td>343.012</td>\n",
       "      <td>320.602</td>\n",
       "      <td>...</td>\n",
       "      <td>327.301</td>\n",
       "      <td>329.295</td>\n",
       "      <td>339.795</td>\n",
       "    </tr>\n",
       "    <tr>\n",
       "      <th>2021-11-30</th>\n",
       "      <td>335.362</td>\n",
       "      <td>339.291</td>\n",
       "      <td>318.116</td>\n",
       "      <td>...</td>\n",
       "      <td>335.850</td>\n",
       "      <td>329.275</td>\n",
       "      <td>338.203</td>\n",
       "    </tr>\n",
       "    <tr>\n",
       "      <th>2021-12-01</th>\n",
       "      <td>332.971</td>\n",
       "      <td>334.927</td>\n",
       "      <td>312.199</td>\n",
       "      <td>...</td>\n",
       "      <td>337.368</td>\n",
       "      <td>333.464</td>\n",
       "      <td>351.871</td>\n",
       "    </tr>\n",
       "    <tr>\n",
       "      <th>2021-12-02</th>\n",
       "      <td>328.685</td>\n",
       "      <td>338.534</td>\n",
       "      <td>314.476</td>\n",
       "      <td>...</td>\n",
       "      <td>339.412</td>\n",
       "      <td>334.731</td>\n",
       "      <td>350.038</td>\n",
       "    </tr>\n",
       "    <tr>\n",
       "      <th>2021-12-03</th>\n",
       "      <td>333.208</td>\n",
       "      <td>336.443</td>\n",
       "      <td>306.672</td>\n",
       "      <td>...</td>\n",
       "      <td>341.622</td>\n",
       "      <td>337.007</td>\n",
       "      <td>352.422</td>\n",
       "    </tr>\n",
       "    <tr>\n",
       "      <th>...</th>\n",
       "      <td>...</td>\n",
       "      <td>...</td>\n",
       "      <td>...</td>\n",
       "      <td>...</td>\n",
       "      <td>...</td>\n",
       "      <td>...</td>\n",
       "      <td>...</td>\n",
       "    </tr>\n",
       "    <tr>\n",
       "      <th>2022-09-12</th>\n",
       "      <td>448.070</td>\n",
       "      <td>352.185</td>\n",
       "      <td>172.332</td>\n",
       "      <td>...</td>\n",
       "      <td>421.319</td>\n",
       "      <td>246.374</td>\n",
       "      <td>536.987</td>\n",
       "    </tr>\n",
       "    <tr>\n",
       "      <th>2022-09-13</th>\n",
       "      <td>439.885</td>\n",
       "      <td>352.195</td>\n",
       "      <td>168.655</td>\n",
       "      <td>...</td>\n",
       "      <td>423.650</td>\n",
       "      <td>243.215</td>\n",
       "      <td>522.982</td>\n",
       "    </tr>\n",
       "    <tr>\n",
       "      <th>2022-09-14</th>\n",
       "      <td>443.253</td>\n",
       "      <td>359.721</td>\n",
       "      <td>171.286</td>\n",
       "      <td>...</td>\n",
       "      <td>423.346</td>\n",
       "      <td>238.693</td>\n",
       "      <td>523.408</td>\n",
       "    </tr>\n",
       "    <tr>\n",
       "      <th>2022-09-15</th>\n",
       "      <td>452.292</td>\n",
       "      <td>362.191</td>\n",
       "      <td>165.225</td>\n",
       "      <td>...</td>\n",
       "      <td>427.582</td>\n",
       "      <td>231.871</td>\n",
       "      <td>511.187</td>\n",
       "    </tr>\n",
       "    <tr>\n",
       "      <th>2022-09-16</th>\n",
       "      <td>463.013</td>\n",
       "      <td>370.883</td>\n",
       "      <td>165.317</td>\n",
       "      <td>...</td>\n",
       "      <td>435.186</td>\n",
       "      <td>238.739</td>\n",
       "      <td>502.302</td>\n",
       "    </tr>\n",
       "  </tbody>\n",
       "</table>\n",
       "<p>210 rows × 1000 columns</p>\n",
       "</div>"
      ],
      "text/plain": [
       "                0        1        2    ...      997      998      999\n",
       "2021-11-29  336.069  343.012  320.602  ...  327.301  329.295  339.795\n",
       "2021-11-30  335.362  339.291  318.116  ...  335.850  329.275  338.203\n",
       "2021-12-01  332.971  334.927  312.199  ...  337.368  333.464  351.871\n",
       "2021-12-02  328.685  338.534  314.476  ...  339.412  334.731  350.038\n",
       "2021-12-03  333.208  336.443  306.672  ...  341.622  337.007  352.422\n",
       "...             ...      ...      ...  ...      ...      ...      ...\n",
       "2022-09-12  448.070  352.185  172.332  ...  421.319  246.374  536.987\n",
       "2022-09-13  439.885  352.195  168.655  ...  423.650  243.215  522.982\n",
       "2022-09-14  443.253  359.721  171.286  ...  423.346  238.693  523.408\n",
       "2022-09-15  452.292  362.191  165.225  ...  427.582  231.871  511.187\n",
       "2022-09-16  463.013  370.883  165.317  ...  435.186  238.739  502.302\n",
       "\n",
       "[210 rows x 1000 columns]"
      ]
     },
     "execution_count": 12,
     "metadata": {},
     "output_type": "execute_result"
    }
   ],
   "source": [
    "from datetime import date\n",
    "\n",
    "# Datos de la opción y del día de actual\n",
    "today = pd.Timestamp(date.today())\n",
    "expiry = opt_valuar.expirationDate\n",
    "\n",
    "# Fechas desde el día de hoy hasta la fecha de cierre del contrato (considerando unicamente los días hábiles)\n",
    "dates = pd.date_range(start=today, end=expiry, freq='B')\n",
    "\n",
    "# Cantidad de escenarios a simular para el método de montecarlo\n",
    "ndays = len(dates)\n",
    "nscen = 1000\n",
    "\n",
    "K = opt_valuar.strike\n",
    "S0 = closes_msft['MSFT'].iloc[-1]\n",
    "sim_ret = pd.DataFrame(sigma*np.random.randn(ndays,nscen)+r,index=dates)\n",
    "sim_closes = S0*np.exp(sim_ret.cumsum())\n",
    "sim_closes"
   ]
  },
  {
   "cell_type": "markdown",
   "id": "69b3cc9c",
   "metadata": {},
   "source": [
    "#### Valuación de la opción baśandonos en la función de pago correspondiente (Europea)"
   ]
  },
  {
   "cell_type": "code",
   "execution_count": 13,
   "id": "e6034f32",
   "metadata": {},
   "outputs": [
    {
     "data": {
      "image/png": "[encoded data removed]",
      "text/plain": [
       "<Figure size 432x288 with 1 Axes>"
      ]
     },
     "metadata": {
      "needs_background": "light"
     },
     "output_type": "display_data"
    }
   ],
   "source": [
    "strike = K\n",
    "call=pd.DataFrame({'Prima':np.exp(-r*ndays)*np.fmax(sim_closes - strike, 0).mean(axis=1)}, index=dates)\n",
    "call.plot();"
   ]
  },
  {
   "cell_type": "code",
   "execution_count": 14,
   "id": "185a5847",
   "metadata": {},
   "outputs": [
    {
     "data": {
      "text/plain": [
       "Prima    31.472\n",
       "Name: 2022-09-16 00:00:00, dtype: float64"
      ]
     },
     "execution_count": 14,
     "metadata": {},
     "output_type": "execute_result"
    }
   ],
   "source": [
    "call.iloc[-1]"
   ]
  },
  {
   "cell_type": "markdown",
   "id": "a1ad7e44",
   "metadata": {},
   "source": [
    "#### Intervalo de Confianza"
   ]
  },
  {
   "cell_type": "code",
   "execution_count": 15,
   "id": "0b9550b5",
   "metadata": {},
   "outputs": [
    {
     "name": "stdout",
     "output_type": "stream",
     "text": [
      "(25.884660795465205, 37.05959701483932)\n"
     ]
    }
   ],
   "source": [
    "confianza = 0.95\n",
    "sigma_est = sim_closes.iloc[-1].sem()\n",
    "mean_est = call.iloc[-1].Prima\n",
    "# i1 = st.t.interval(confianza,nscen-1, loc=mean_est, scale=sigma_est)\n",
    "i2 = st.norm.interval(confianza, loc=mean_est, scale=sigma_est)\n",
    "print(i2)"
   ]
  },
  {
   "cell_type": "markdown",
   "id": "10e6a18d",
   "metadata": {},
   "source": [
    "#### Histograma de rendimientos"
   ]
  },
  {
   "cell_type": "code",
   "execution_count": 16,
   "id": "68daa40d",
   "metadata": {},
   "outputs": [],
   "source": [
    "# Centro mis datos en mi tasa libre de riesgo\n",
    "freq, values = np.histogram(ret_msft-mu+r, bins=10000)\n",
    "# freq = freq.astype('float32')\n",
    "prob = freq/np.sum(freq)"
   ]
  },
  {
   "cell_type": "code",
   "execution_count": 17,
   "id": "fc8149e3",
   "metadata": {},
   "outputs": [
    {
     "data": {
      "image/png": "[encoded data removed]",
      "text/plain": [
       "<Figure size 432x288 with 1 Axes>"
      ]
     },
     "metadata": {
      "needs_background": "light"
     },
     "output_type": "display_data"
    }
   ],
   "source": [
    "# Datos de la opción y del día de actual\n",
    "today = pd.Timestamp(date.today())\n",
    "expiry = opt_valuar.expirationDate\n",
    "\n",
    "# Fechas desde el día de hoy hasta la fecha de cierre del contrato (considerando unicamente los días hábiles)\n",
    "dates = pd.date_range(start=today, end=expiry, freq='B')\n",
    "\n",
    "# Cantidad de escenarios a simular para el método de montecarlo\n",
    "ndays = len(dates)\n",
    "nscen = 10000\n",
    "\n",
    "K = opt_valuar.strike\n",
    "S0 = closes_msft['MSFT'].iloc[-1]\n",
    "\n",
    "ret = np.random.choice(values[1:], (ndays,nscen), p=prob)\n",
    "sim_ret_hist = pd.DataFrame(ret, index=dates)\n",
    "sim_closes_hist = S0*np.exp(sim_ret_hist.cumsum())\n",
    "\n",
    "strike = pd.DataFrame(K*np.ones([ndays,nscen]),index=dates)\n",
    "call_hist=pd.DataFrame({'Prima':np.exp(-r*ndays)*np.fmax(sim_closes_hist-strike,np.zeros([ndays,nscen])).T.mean()},index=dates)\n",
    "call_hist.plot();"
   ]
  },
  {
   "cell_type": "code",
   "execution_count": 18,
   "id": "615f752e",
   "metadata": {},
   "outputs": [
    {
     "data": {
      "text/plain": [
       "Prima    30.467\n",
       "Name: 2022-09-16 00:00:00, dtype: float64"
      ]
     },
     "execution_count": 18,
     "metadata": {},
     "output_type": "execute_result"
    }
   ],
   "source": [
    "call_hist.iloc[-1]"
   ]
  },
  {
   "cell_type": "code",
   "execution_count": 19,
   "id": "e5b0ba60",
   "metadata": {},
   "outputs": [
    {
     "name": "stdout",
     "output_type": "stream",
     "text": [
      "(28.76716539931565, 32.16675070958838)\n"
     ]
    }
   ],
   "source": [
    "confianza = 0.95\n",
    "sigma_est = sim_closes_hist.iloc[-1].sem()\n",
    "mean_est = call_hist.iloc[-1].Prima\n",
    "# i1 = st.t.interval(confianza,nscen-1, loc=mean_est, scale=sigma_est)\n",
    "i2 = st.norm.interval(confianza, loc=mean_est, scale=sigma_est)\n",
    "print(i2)"
   ]
  },
  {
   "cell_type": "markdown",
   "id": "8967cc5e",
   "metadata": {},
   "source": [
    "#### Funcion indicadora Call down-and-out"
   ]
  },
  {
   "cell_type": "code",
   "execution_count": 20,
   "id": "af35e056",
   "metadata": {},
   "outputs": [
    {
     "data": {
      "text/html": [
       "<div>\n",
       "<style scoped>\n",
       "    .dataframe tbody tr th:only-of-type {\n",
       "        vertical-align: middle;\n",
       "    }\n",
       "\n",
       "    .dataframe tbody tr th {\n",
       "        vertical-align: top;\n",
       "    }\n",
       "\n",
       "    .dataframe thead th {\n",
       "        text-align: right;\n",
       "    }\n",
       "</style>\n",
       "<table border=\"1\" class=\"dataframe\">\n",
       "  <thead>\n",
       "    <tr style=\"text-align: right;\">\n",
       "      <th></th>\n",
       "      <th>0</th>\n",
       "      <th>1</th>\n",
       "      <th>2</th>\n",
       "      <th>3</th>\n",
       "      <th>4</th>\n",
       "      <th>5</th>\n",
       "      <th>6</th>\n",
       "      <th>...</th>\n",
       "      <th>993</th>\n",
       "      <th>994</th>\n",
       "      <th>995</th>\n",
       "      <th>996</th>\n",
       "      <th>997</th>\n",
       "      <th>998</th>\n",
       "      <th>999</th>\n",
       "    </tr>\n",
       "  </thead>\n",
       "  <tbody>\n",
       "    <tr>\n",
       "      <th>2021-11-29</th>\n",
       "      <td>True</td>\n",
       "      <td>True</td>\n",
       "      <td>False</td>\n",
       "      <td>False</td>\n",
       "      <td>True</td>\n",
       "      <td>False</td>\n",
       "      <td>True</td>\n",
       "      <td>...</td>\n",
       "      <td>False</td>\n",
       "      <td>False</td>\n",
       "      <td>False</td>\n",
       "      <td>False</td>\n",
       "      <td>False</td>\n",
       "      <td>False</td>\n",
       "      <td>True</td>\n",
       "    </tr>\n",
       "    <tr>\n",
       "      <th>2021-11-30</th>\n",
       "      <td>True</td>\n",
       "      <td>True</td>\n",
       "      <td>False</td>\n",
       "      <td>False</td>\n",
       "      <td>True</td>\n",
       "      <td>False</td>\n",
       "      <td>True</td>\n",
       "      <td>...</td>\n",
       "      <td>False</td>\n",
       "      <td>False</td>\n",
       "      <td>False</td>\n",
       "      <td>False</td>\n",
       "      <td>False</td>\n",
       "      <td>False</td>\n",
       "      <td>True</td>\n",
       "    </tr>\n",
       "    <tr>\n",
       "      <th>2021-12-01</th>\n",
       "      <td>True</td>\n",
       "      <td>True</td>\n",
       "      <td>False</td>\n",
       "      <td>False</td>\n",
       "      <td>True</td>\n",
       "      <td>False</td>\n",
       "      <td>True</td>\n",
       "      <td>...</td>\n",
       "      <td>False</td>\n",
       "      <td>False</td>\n",
       "      <td>False</td>\n",
       "      <td>False</td>\n",
       "      <td>False</td>\n",
       "      <td>False</td>\n",
       "      <td>True</td>\n",
       "    </tr>\n",
       "    <tr>\n",
       "      <th>2021-12-02</th>\n",
       "      <td>False</td>\n",
       "      <td>True</td>\n",
       "      <td>False</td>\n",
       "      <td>False</td>\n",
       "      <td>False</td>\n",
       "      <td>False</td>\n",
       "      <td>True</td>\n",
       "      <td>...</td>\n",
       "      <td>False</td>\n",
       "      <td>False</td>\n",
       "      <td>False</td>\n",
       "      <td>False</td>\n",
       "      <td>False</td>\n",
       "      <td>False</td>\n",
       "      <td>True</td>\n",
       "    </tr>\n",
       "    <tr>\n",
       "      <th>2021-12-03</th>\n",
       "      <td>False</td>\n",
       "      <td>True</td>\n",
       "      <td>False</td>\n",
       "      <td>False</td>\n",
       "      <td>False</td>\n",
       "      <td>False</td>\n",
       "      <td>True</td>\n",
       "      <td>...</td>\n",
       "      <td>False</td>\n",
       "      <td>False</td>\n",
       "      <td>False</td>\n",
       "      <td>False</td>\n",
       "      <td>False</td>\n",
       "      <td>False</td>\n",
       "      <td>True</td>\n",
       "    </tr>\n",
       "    <tr>\n",
       "      <th>...</th>\n",
       "      <td>...</td>\n",
       "      <td>...</td>\n",
       "      <td>...</td>\n",
       "      <td>...</td>\n",
       "      <td>...</td>\n",
       "      <td>...</td>\n",
       "      <td>...</td>\n",
       "      <td>...</td>\n",
       "      <td>...</td>\n",
       "      <td>...</td>\n",
       "      <td>...</td>\n",
       "      <td>...</td>\n",
       "      <td>...</td>\n",
       "      <td>...</td>\n",
       "      <td>...</td>\n",
       "    </tr>\n",
       "    <tr>\n",
       "      <th>2022-09-12</th>\n",
       "      <td>False</td>\n",
       "      <td>False</td>\n",
       "      <td>False</td>\n",
       "      <td>False</td>\n",
       "      <td>False</td>\n",
       "      <td>False</td>\n",
       "      <td>False</td>\n",
       "      <td>...</td>\n",
       "      <td>False</td>\n",
       "      <td>False</td>\n",
       "      <td>False</td>\n",
       "      <td>False</td>\n",
       "      <td>False</td>\n",
       "      <td>False</td>\n",
       "      <td>False</td>\n",
       "    </tr>\n",
       "    <tr>\n",
       "      <th>2022-09-13</th>\n",
       "      <td>False</td>\n",
       "      <td>False</td>\n",
       "      <td>False</td>\n",
       "      <td>False</td>\n",
       "      <td>False</td>\n",
       "      <td>False</td>\n",
       "      <td>False</td>\n",
       "      <td>...</td>\n",
       "      <td>False</td>\n",
       "      <td>False</td>\n",
       "      <td>False</td>\n",
       "      <td>False</td>\n",
       "      <td>False</td>\n",
       "      <td>False</td>\n",
       "      <td>False</td>\n",
       "    </tr>\n",
       "    <tr>\n",
       "      <th>2022-09-14</th>\n",
       "      <td>False</td>\n",
       "      <td>False</td>\n",
       "      <td>False</td>\n",
       "      <td>False</td>\n",
       "      <td>False</td>\n",
       "      <td>False</td>\n",
       "      <td>False</td>\n",
       "      <td>...</td>\n",
       "      <td>False</td>\n",
       "      <td>False</td>\n",
       "      <td>False</td>\n",
       "      <td>False</td>\n",
       "      <td>False</td>\n",
       "      <td>False</td>\n",
       "      <td>False</td>\n",
       "    </tr>\n",
       "    <tr>\n",
       "      <th>2022-09-15</th>\n",
       "      <td>False</td>\n",
       "      <td>False</td>\n",
       "      <td>False</td>\n",
       "      <td>False</td>\n",
       "      <td>False</td>\n",
       "      <td>False</td>\n",
       "      <td>False</td>\n",
       "      <td>...</td>\n",
       "      <td>False</td>\n",
       "      <td>False</td>\n",
       "      <td>False</td>\n",
       "      <td>False</td>\n",
       "      <td>False</td>\n",
       "      <td>False</td>\n",
       "      <td>False</td>\n",
       "    </tr>\n",
       "    <tr>\n",
       "      <th>2022-09-16</th>\n",
       "      <td>False</td>\n",
       "      <td>False</td>\n",
       "      <td>False</td>\n",
       "      <td>False</td>\n",
       "      <td>False</td>\n",
       "      <td>False</td>\n",
       "      <td>False</td>\n",
       "      <td>...</td>\n",
       "      <td>False</td>\n",
       "      <td>False</td>\n",
       "      <td>False</td>\n",
       "      <td>False</td>\n",
       "      <td>False</td>\n",
       "      <td>False</td>\n",
       "      <td>False</td>\n",
       "    </tr>\n",
       "  </tbody>\n",
       "</table>\n",
       "<p>210 rows × 1000 columns</p>\n",
       "</div>"
      ],
      "text/plain": [
       "              0      1      2      3      4      5      6    ...    993  \\\n",
       "2021-11-29   True   True  False  False   True  False   True  ...  False   \n",
       "2021-11-30   True   True  False  False   True  False   True  ...  False   \n",
       "2021-12-01   True   True  False  False   True  False   True  ...  False   \n",
       "2021-12-02  False   True  False  False  False  False   True  ...  False   \n",
       "2021-12-03  False   True  False  False  False  False   True  ...  False   \n",
       "...           ...    ...    ...    ...    ...    ...    ...  ...    ...   \n",
       "2022-09-12  False  False  False  False  False  False  False  ...  False   \n",
       "2022-09-13  False  False  False  False  False  False  False  ...  False   \n",
       "2022-09-14  False  False  False  False  False  False  False  ...  False   \n",
       "2022-09-15  False  False  False  False  False  False  False  ...  False   \n",
       "2022-09-16  False  False  False  False  False  False  False  ...  False   \n",
       "\n",
       "              994    995    996    997    998    999  \n",
       "2021-11-29  False  False  False  False  False   True  \n",
       "2021-11-30  False  False  False  False  False   True  \n",
       "2021-12-01  False  False  False  False  False   True  \n",
       "2021-12-02  False  False  False  False  False   True  \n",
       "2021-12-03  False  False  False  False  False   True  \n",
       "...           ...    ...    ...    ...    ...    ...  \n",
       "2022-09-12  False  False  False  False  False  False  \n",
       "2022-09-13  False  False  False  False  False  False  \n",
       "2022-09-14  False  False  False  False  False  False  \n",
       "2022-09-15  False  False  False  False  False  False  \n",
       "2022-09-16  False  False  False  False  False  False  \n",
       "\n",
       "[210 rows x 1000 columns]"
      ]
     },
     "execution_count": 20,
     "metadata": {},
     "output_type": "execute_result"
    }
   ],
   "source": [
    "pd.set_option('display.max_columns', 15)\n",
    "\n",
    "# Precio barrera\n",
    "B = 330\n",
    "\n",
    "# Función de activación (knock-out)\n",
    "# Si en algún momento el precio toca la barrera la opción se desactiva\n",
    "I = (sim_closes > B).cumprod(axis=0)  > 0\n",
    "I"
   ]
  },
  {
   "cell_type": "markdown",
   "id": "d1a315f1",
   "metadata": {},
   "source": [
    "#### Call down-and-out"
   ]
  },
  {
   "cell_type": "code",
   "execution_count": 21,
   "id": "891a6a3f",
   "metadata": {},
   "outputs": [
    {
     "data": {
      "text/plain": [
       "(350.0, 329.67999267578125)"
      ]
     },
     "execution_count": 21,
     "metadata": {},
     "output_type": "execute_result"
    }
   ],
   "source": [
    "K = opt_valuar.strike\n",
    "S0 = closes_msft['MSFT'].iloc[-1] # no tenemos el underlying price al usar yfinance entonces asumimos el ultimo de \n",
    "K, S0"
   ]
  },
  {
   "cell_type": "code",
   "execution_count": 22,
   "id": "88d46dff",
   "metadata": {},
   "outputs": [
    {
     "data": {
      "image/png": "[encoded data removed]",
      "text/plain": [
       "<Figure size 432x288 with 1 Axes>"
      ]
     },
     "metadata": {
      "needs_background": "light"
     },
     "output_type": "display_data"
    }
   ],
   "source": [
    "# Definir barrera\n",
    "B = 330\n",
    "# Crear función indicadora\n",
    "I = (sim_closes > B).cumprod(axis=0) > 0\n",
    "# Definir strike\n",
    "strike = K\n",
    "# Calcular la prima de una opción Europea\n",
    "call = pd.DataFrame({'Prima Europea':np.exp(-r*ndays)*np.fmax(sim_closes - strike, 0)\n",
    "                     .mean(axis=1)},index=dates)\n",
    "# Calcular la prima de una opción barrera\n",
    "callui = pd.DataFrame({'Prima down-and-out':np.exp(-r*ndays)*(I * np.fmax(sim_closes - strike, 0))\n",
    "                       .mean(axis=1)},index=dates)\n",
    "# Graficar el resultado de las dos primas previamente valuadas\n",
    "ax = callui.plot();\n",
    "call.plot(ax=ax);"
   ]
  },
  {
   "cell_type": "markdown",
   "id": "5a39d523",
   "metadata": {},
   "source": [
    "Al analizar la acción de Microsoft, observamos que tiene una tendencia alcista. Esto significa que al tomar la posición de inversor, queremos un call. Y como estamos muy seguros de que esta acción seguirá subiendo, entonces usamos un call down and out. Esto significa que si por alguna razón baja a cierto nivel menor que el spot, la opción se desactivará. Esto reduce las pérdidas ya que si la acción baja antes de que la opción se venza, entonces la opción se desactiva. Y al tener la opción con barrera, se reduce la prima."
   ]
  },
  {
   "cell_type": "markdown",
   "id": "b34d187c",
   "metadata": {},
   "source": [
    "### Put:"
   ]
  },
  {
   "cell_type": "markdown",
   "id": "982f3768",
   "metadata": {},
   "source": [
    "#### Escoger opción put"
   ]
  },
  {
   "cell_type": "code",
   "execution_count": 23,
   "id": "875b8e1a",
   "metadata": {},
   "outputs": [
    {
     "data": {
      "text/html": [
       "<div>\n",
       "<style scoped>\n",
       "    .dataframe tbody tr th:only-of-type {\n",
       "        vertical-align: middle;\n",
       "    }\n",
       "\n",
       "    .dataframe tbody tr th {\n",
       "        vertical-align: top;\n",
       "    }\n",
       "\n",
       "    .dataframe thead th {\n",
       "        text-align: right;\n",
       "    }\n",
       "</style>\n",
       "<table border=\"1\" class=\"dataframe\">\n",
       "  <thead>\n",
       "    <tr style=\"text-align: right;\">\n",
       "      <th></th>\n",
       "      <th>contractSymbol</th>\n",
       "      <th>strike</th>\n",
       "      <th>bid</th>\n",
       "      <th>ask</th>\n",
       "      <th>volume</th>\n",
       "      <th>openInterest</th>\n",
       "      <th>impliedVolatility</th>\n",
       "      <th>inTheMoney</th>\n",
       "      <th>expirationDate</th>\n",
       "      <th>dte</th>\n",
       "      <th>CALL</th>\n",
       "      <th>mark</th>\n",
       "    </tr>\n",
       "  </thead>\n",
       "  <tbody>\n",
       "    <tr>\n",
       "      <th>1283</th>\n",
       "      <td>MSFT220916P00330000</td>\n",
       "      <td>330.0</td>\n",
       "      <td>32.1</td>\n",
       "      <td>35.1</td>\n",
       "      <td>39.0</td>\n",
       "      <td>1754.0</td>\n",
       "      <td>0.297</td>\n",
       "      <td>True</td>\n",
       "      <td>2022-09-17</td>\n",
       "      <td>0.803</td>\n",
       "      <td>False</td>\n",
       "      <td>33.6</td>\n",
       "    </tr>\n",
       "  </tbody>\n",
       "</table>\n",
       "</div>"
      ],
      "text/plain": [
       "           contractSymbol  strike   bid   ask  volume  openInterest  \\\n",
       "1283  MSFT220916P00330000   330.0  32.1  35.1    39.0        1754.0   \n",
       "\n",
       "      impliedVolatility  inTheMoney expirationDate    dte   CALL  mark  \n",
       "1283              0.297        True     2022-09-17  0.803  False  33.6  "
      ]
     },
     "execution_count": 23,
     "metadata": {},
     "output_type": "execute_result"
    }
   ],
   "source": [
    "# opción que quiero evaluar\n",
    "K = 330.0 # strike price\n",
    "indice_opt = msft_opt.loc[(msft_opt.CALL==False) & (msft_opt.strike==K) & (msft_opt.expirationDate=='2022-09-17 00:00:00')]\n",
    "indice_opt"
   ]
  },
  {
   "cell_type": "code",
   "execution_count": 24,
   "id": "4fdc8a19",
   "metadata": {},
   "outputs": [
    {
     "data": {
      "text/plain": [
       "contractSymbol    MSFT220916P00330000\n",
       "strike                          330.0\n",
       "bid                              32.1\n",
       "ask                              35.1\n",
       "volume                           39.0\n",
       "                         ...         \n",
       "inTheMoney                       True\n",
       "expirationDate    2022-09-17 00:00:00\n",
       "dte                             0.803\n",
       "CALL                            False\n",
       "mark                             33.6\n",
       "Name: 1283, Length: 12, dtype: object"
      ]
     },
     "execution_count": 24,
     "metadata": {},
     "output_type": "execute_result"
    }
   ],
   "source": [
    "opt_valuar = indice_opt.loc[1283]\n",
    "opt_valuar"
   ]
  },
  {
   "cell_type": "markdown",
   "id": "de29c3e7",
   "metadata": {},
   "source": [
    "#### Simulacion de precios"
   ]
  },
  {
   "cell_type": "code",
   "execution_count": 25,
   "id": "bced2d49",
   "metadata": {},
   "outputs": [],
   "source": [
    "mu = ret_msft['MSFT'].mean()\n",
    "sigma = ret_msft['MSFT'].std()\n",
    "r = 0.0021/360\n",
    "mu, sigma, r\n",
    "\n",
    "from datetime import date\n",
    "\n",
    "# Datos de la opción y del día de actual\n",
    "today = pd.Timestamp(date.today())\n",
    "expiry = opt_valuar.expirationDate\n",
    "\n",
    "# Fechas desde el día de hoy hasta la fecha de cierre del contrato (considerando unicamente los días hábiles)\n",
    "dates = pd.date_range(start=today, end=expiry, freq='B')\n",
    "\n",
    "# Cantidad de escenarios a simular para el método de montecarlo\n",
    "ndays = len(dates)\n",
    "nscen = 1000\n",
    "\n",
    "K = opt_valuar.strike\n",
    "S0 = closes_msft['MSFT'].iloc[-1]\n",
    "sim_ret = pd.DataFrame(sigma*np.random.randn(ndays,nscen)+r,index=dates)\n",
    "sim_closes = S0*np.exp(sim_ret.cumsum())"
   ]
  },
  {
   "cell_type": "markdown",
   "id": "aa01b54e",
   "metadata": {},
   "source": [
    "#### Valuación de la opción baśandonos en la función de pago correspondiente (Europea)"
   ]
  },
  {
   "cell_type": "code",
   "execution_count": 26,
   "id": "9b36ae28",
   "metadata": {},
   "outputs": [
    {
     "data": {
      "image/png": "[encoded data removed]",
      "text/plain": [
       "<Figure size 432x288 with 1 Axes>"
      ]
     },
     "metadata": {
      "needs_background": "light"
     },
     "output_type": "display_data"
    }
   ],
   "source": [
    "strike = K\n",
    "put=pd.DataFrame({'Prima':np.exp(-r*ndays)*np.fmax(strike - sim_closes, 0).mean(axis=1)}, index=dates)\n",
    "put.plot();"
   ]
  },
  {
   "cell_type": "code",
   "execution_count": 27,
   "id": "ef6ca6f9",
   "metadata": {},
   "outputs": [
    {
     "data": {
      "text/plain": [
       "Prima    27.831\n",
       "Name: 2022-09-16 00:00:00, dtype: float64"
      ]
     },
     "execution_count": 27,
     "metadata": {},
     "output_type": "execute_result"
    }
   ],
   "source": [
    "put.iloc[-1]"
   ]
  },
  {
   "cell_type": "markdown",
   "id": "1f81553a",
   "metadata": {},
   "source": [
    "#### Intervalo de Confianza"
   ]
  },
  {
   "cell_type": "code",
   "execution_count": 28,
   "id": "7d2bb8ef",
   "metadata": {},
   "outputs": [
    {
     "name": "stdout",
     "output_type": "stream",
     "text": [
      "(22.477121736039017, 33.185370118251015)\n"
     ]
    }
   ],
   "source": [
    "confianza = 0.95\n",
    "sigma_est = sim_closes.iloc[-1].sem()\n",
    "mean_est = put.iloc[-1].Prima\n",
    "# i1 = st.t.interval(confianza,nscen-1, loc=mean_est, scale=sigma_est)\n",
    "i2 = st.norm.interval(confianza, loc=mean_est, scale=sigma_est)\n",
    "print(i2)"
   ]
  },
  {
   "cell_type": "markdown",
   "id": "fe72048e",
   "metadata": {},
   "source": [
    "#### Histograma de rendimientos"
   ]
  },
  {
   "cell_type": "code",
   "execution_count": 29,
   "id": "873c7136",
   "metadata": {},
   "outputs": [
    {
     "data": {
      "image/png": "[encoded data removed]",
      "text/plain": [
       "<Figure size 432x288 with 1 Axes>"
      ]
     },
     "metadata": {
      "needs_background": "light"
     },
     "output_type": "display_data"
    }
   ],
   "source": [
    "# Centro mis datos en mi tasa libre de riesgo\n",
    "freq, values = np.histogram(ret_msft-mu+r, bins=10000)\n",
    "# freq = freq.astype('float32')\n",
    "prob = freq/np.sum(freq)\n",
    "\n",
    "# Datos de la opción y del día de actual\n",
    "today = pd.Timestamp(date.today())\n",
    "expiry = opt_valuar.expirationDate\n",
    "\n",
    "# Fechas desde el día de hoy hasta la fecha de cierre del contrato (considerando unicamente los días hábiles)\n",
    "dates = pd.date_range(start=today, end=expiry, freq='B')\n",
    "\n",
    "# Cantidad de escenarios a simular para el método de montecarlo\n",
    "ndays = len(dates)\n",
    "nscen = 10000\n",
    "\n",
    "K = opt_valuar.strike\n",
    "S0 = closes_msft['MSFT'].iloc[-1]\n",
    "\n",
    "ret = np.random.choice(values[1:], (ndays,nscen), p=prob)\n",
    "sim_ret_hist = pd.DataFrame(ret, index=dates)\n",
    "sim_closes_hist = S0*np.exp(sim_ret_hist.cumsum())\n",
    "\n",
    "strike = pd.DataFrame(K*np.ones([ndays,nscen]),index=dates)\n",
    "put_hist=pd.DataFrame({'Prima':np.exp(-r*ndays)*np.fmax(strike - sim_closes_hist,np.zeros([ndays,nscen])).T.mean()},index=dates)\n",
    "put_hist.plot();"
   ]
  },
  {
   "cell_type": "code",
   "execution_count": 30,
   "id": "2304e0d8",
   "metadata": {},
   "outputs": [
    {
     "data": {
      "text/plain": [
       "Prima    28.227\n",
       "Name: 2022-09-16 00:00:00, dtype: float64"
      ]
     },
     "execution_count": 30,
     "metadata": {},
     "output_type": "execute_result"
    }
   ],
   "source": [
    "put_hist.iloc[-1]"
   ]
  },
  {
   "cell_type": "code",
   "execution_count": 31,
   "id": "44d7f7b7",
   "metadata": {},
   "outputs": [
    {
     "name": "stdout",
     "output_type": "stream",
     "text": [
      "(26.504592461114395, 29.950008846223202)\n"
     ]
    }
   ],
   "source": [
    "confianza = 0.95\n",
    "sigma_est = sim_closes_hist.iloc[-1].sem()\n",
    "mean_est = put_hist.iloc[-1].Prima\n",
    "# i1 = st.t.interval(confianza,nscen-1, loc=mean_est, scale=sigma_est)\n",
    "i2 = st.norm.interval(confianza, loc=mean_est, scale=sigma_est)\n",
    "print(i2)"
   ]
  },
  {
   "cell_type": "markdown",
   "id": "d15814d7",
   "metadata": {},
   "source": [
    "#### Función indicadora Put up-and-out"
   ]
  },
  {
   "cell_type": "code",
   "execution_count": 32,
   "id": "5e5c3c71",
   "metadata": {},
   "outputs": [
    {
     "data": {
      "text/html": [
       "<div>\n",
       "<style scoped>\n",
       "    .dataframe tbody tr th:only-of-type {\n",
       "        vertical-align: middle;\n",
       "    }\n",
       "\n",
       "    .dataframe tbody tr th {\n",
       "        vertical-align: top;\n",
       "    }\n",
       "\n",
       "    .dataframe thead th {\n",
       "        text-align: right;\n",
       "    }\n",
       "</style>\n",
       "<table border=\"1\" class=\"dataframe\">\n",
       "  <thead>\n",
       "    <tr style=\"text-align: right;\">\n",
       "      <th></th>\n",
       "      <th>0</th>\n",
       "      <th>1</th>\n",
       "      <th>2</th>\n",
       "      <th>3</th>\n",
       "      <th>4</th>\n",
       "      <th>5</th>\n",
       "      <th>6</th>\n",
       "      <th>...</th>\n",
       "      <th>993</th>\n",
       "      <th>994</th>\n",
       "      <th>995</th>\n",
       "      <th>996</th>\n",
       "      <th>997</th>\n",
       "      <th>998</th>\n",
       "      <th>999</th>\n",
       "    </tr>\n",
       "  </thead>\n",
       "  <tbody>\n",
       "    <tr>\n",
       "      <th>2021-11-29</th>\n",
       "      <td>True</td>\n",
       "      <td>True</td>\n",
       "      <td>True</td>\n",
       "      <td>True</td>\n",
       "      <td>True</td>\n",
       "      <td>True</td>\n",
       "      <td>True</td>\n",
       "      <td>...</td>\n",
       "      <td>True</td>\n",
       "      <td>True</td>\n",
       "      <td>True</td>\n",
       "      <td>True</td>\n",
       "      <td>True</td>\n",
       "      <td>True</td>\n",
       "      <td>True</td>\n",
       "    </tr>\n",
       "    <tr>\n",
       "      <th>2021-11-30</th>\n",
       "      <td>True</td>\n",
       "      <td>True</td>\n",
       "      <td>True</td>\n",
       "      <td>True</td>\n",
       "      <td>True</td>\n",
       "      <td>True</td>\n",
       "      <td>True</td>\n",
       "      <td>...</td>\n",
       "      <td>True</td>\n",
       "      <td>True</td>\n",
       "      <td>True</td>\n",
       "      <td>True</td>\n",
       "      <td>True</td>\n",
       "      <td>True</td>\n",
       "      <td>True</td>\n",
       "    </tr>\n",
       "    <tr>\n",
       "      <th>2021-12-01</th>\n",
       "      <td>True</td>\n",
       "      <td>True</td>\n",
       "      <td>True</td>\n",
       "      <td>True</td>\n",
       "      <td>True</td>\n",
       "      <td>True</td>\n",
       "      <td>True</td>\n",
       "      <td>...</td>\n",
       "      <td>True</td>\n",
       "      <td>True</td>\n",
       "      <td>True</td>\n",
       "      <td>True</td>\n",
       "      <td>True</td>\n",
       "      <td>True</td>\n",
       "      <td>True</td>\n",
       "    </tr>\n",
       "    <tr>\n",
       "      <th>2021-12-02</th>\n",
       "      <td>True</td>\n",
       "      <td>True</td>\n",
       "      <td>True</td>\n",
       "      <td>True</td>\n",
       "      <td>True</td>\n",
       "      <td>True</td>\n",
       "      <td>True</td>\n",
       "      <td>...</td>\n",
       "      <td>True</td>\n",
       "      <td>True</td>\n",
       "      <td>True</td>\n",
       "      <td>True</td>\n",
       "      <td>True</td>\n",
       "      <td>True</td>\n",
       "      <td>True</td>\n",
       "    </tr>\n",
       "    <tr>\n",
       "      <th>2021-12-03</th>\n",
       "      <td>True</td>\n",
       "      <td>True</td>\n",
       "      <td>True</td>\n",
       "      <td>True</td>\n",
       "      <td>True</td>\n",
       "      <td>True</td>\n",
       "      <td>True</td>\n",
       "      <td>...</td>\n",
       "      <td>True</td>\n",
       "      <td>True</td>\n",
       "      <td>True</td>\n",
       "      <td>True</td>\n",
       "      <td>True</td>\n",
       "      <td>True</td>\n",
       "      <td>True</td>\n",
       "    </tr>\n",
       "    <tr>\n",
       "      <th>...</th>\n",
       "      <td>...</td>\n",
       "      <td>...</td>\n",
       "      <td>...</td>\n",
       "      <td>...</td>\n",
       "      <td>...</td>\n",
       "      <td>...</td>\n",
       "      <td>...</td>\n",
       "      <td>...</td>\n",
       "      <td>...</td>\n",
       "      <td>...</td>\n",
       "      <td>...</td>\n",
       "      <td>...</td>\n",
       "      <td>...</td>\n",
       "      <td>...</td>\n",
       "      <td>...</td>\n",
       "    </tr>\n",
       "    <tr>\n",
       "      <th>2022-09-12</th>\n",
       "      <td>False</td>\n",
       "      <td>False</td>\n",
       "      <td>False</td>\n",
       "      <td>True</td>\n",
       "      <td>True</td>\n",
       "      <td>False</td>\n",
       "      <td>True</td>\n",
       "      <td>...</td>\n",
       "      <td>True</td>\n",
       "      <td>False</td>\n",
       "      <td>False</td>\n",
       "      <td>True</td>\n",
       "      <td>True</td>\n",
       "      <td>True</td>\n",
       "      <td>True</td>\n",
       "    </tr>\n",
       "    <tr>\n",
       "      <th>2022-09-13</th>\n",
       "      <td>False</td>\n",
       "      <td>False</td>\n",
       "      <td>False</td>\n",
       "      <td>True</td>\n",
       "      <td>True</td>\n",
       "      <td>False</td>\n",
       "      <td>True</td>\n",
       "      <td>...</td>\n",
       "      <td>True</td>\n",
       "      <td>False</td>\n",
       "      <td>False</td>\n",
       "      <td>True</td>\n",
       "      <td>True</td>\n",
       "      <td>True</td>\n",
       "      <td>True</td>\n",
       "    </tr>\n",
       "    <tr>\n",
       "      <th>2022-09-14</th>\n",
       "      <td>False</td>\n",
       "      <td>False</td>\n",
       "      <td>False</td>\n",
       "      <td>True</td>\n",
       "      <td>True</td>\n",
       "      <td>False</td>\n",
       "      <td>True</td>\n",
       "      <td>...</td>\n",
       "      <td>True</td>\n",
       "      <td>False</td>\n",
       "      <td>False</td>\n",
       "      <td>True</td>\n",
       "      <td>True</td>\n",
       "      <td>True</td>\n",
       "      <td>True</td>\n",
       "    </tr>\n",
       "    <tr>\n",
       "      <th>2022-09-15</th>\n",
       "      <td>False</td>\n",
       "      <td>False</td>\n",
       "      <td>False</td>\n",
       "      <td>True</td>\n",
       "      <td>True</td>\n",
       "      <td>False</td>\n",
       "      <td>True</td>\n",
       "      <td>...</td>\n",
       "      <td>True</td>\n",
       "      <td>False</td>\n",
       "      <td>False</td>\n",
       "      <td>True</td>\n",
       "      <td>True</td>\n",
       "      <td>True</td>\n",
       "      <td>True</td>\n",
       "    </tr>\n",
       "    <tr>\n",
       "      <th>2022-09-16</th>\n",
       "      <td>False</td>\n",
       "      <td>False</td>\n",
       "      <td>False</td>\n",
       "      <td>True</td>\n",
       "      <td>True</td>\n",
       "      <td>False</td>\n",
       "      <td>True</td>\n",
       "      <td>...</td>\n",
       "      <td>True</td>\n",
       "      <td>False</td>\n",
       "      <td>False</td>\n",
       "      <td>True</td>\n",
       "      <td>True</td>\n",
       "      <td>True</td>\n",
       "      <td>True</td>\n",
       "    </tr>\n",
       "  </tbody>\n",
       "</table>\n",
       "<p>210 rows × 1000 columns</p>\n",
       "</div>"
      ],
      "text/plain": [
       "              0      1      2     3     4      5     6    ...   993    994  \\\n",
       "2021-11-29   True   True   True  True  True   True  True  ...  True   True   \n",
       "2021-11-30   True   True   True  True  True   True  True  ...  True   True   \n",
       "2021-12-01   True   True   True  True  True   True  True  ...  True   True   \n",
       "2021-12-02   True   True   True  True  True   True  True  ...  True   True   \n",
       "2021-12-03   True   True   True  True  True   True  True  ...  True   True   \n",
       "...           ...    ...    ...   ...   ...    ...   ...  ...   ...    ...   \n",
       "2022-09-12  False  False  False  True  True  False  True  ...  True  False   \n",
       "2022-09-13  False  False  False  True  True  False  True  ...  True  False   \n",
       "2022-09-14  False  False  False  True  True  False  True  ...  True  False   \n",
       "2022-09-15  False  False  False  True  True  False  True  ...  True  False   \n",
       "2022-09-16  False  False  False  True  True  False  True  ...  True  False   \n",
       "\n",
       "              995   996   997   998   999  \n",
       "2021-11-29   True  True  True  True  True  \n",
       "2021-11-30   True  True  True  True  True  \n",
       "2021-12-01   True  True  True  True  True  \n",
       "2021-12-02   True  True  True  True  True  \n",
       "2021-12-03   True  True  True  True  True  \n",
       "...           ...   ...   ...   ...   ...  \n",
       "2022-09-12  False  True  True  True  True  \n",
       "2022-09-13  False  True  True  True  True  \n",
       "2022-09-14  False  True  True  True  True  \n",
       "2022-09-15  False  True  True  True  True  \n",
       "2022-09-16  False  True  True  True  True  \n",
       "\n",
       "[210 rows x 1000 columns]"
      ]
     },
     "execution_count": 32,
     "metadata": {},
     "output_type": "execute_result"
    }
   ],
   "source": [
    "pd.set_option('display.max_columns', 15)\n",
    "\n",
    "# Precio barrera\n",
    "B = 380   \n",
    "\n",
    "# Función de activación (knock-out)\n",
    "# Si en algún momento el precio toca la barrera la opción se desactiva\n",
    "I = (sim_closes < B).cumprod(axis=0)  > 0\n",
    "I"
   ]
  },
  {
   "cell_type": "markdown",
   "id": "26360801",
   "metadata": {},
   "source": [
    "#### Put up-and-out"
   ]
  },
  {
   "cell_type": "code",
   "execution_count": 33,
   "id": "fb41ad85",
   "metadata": {},
   "outputs": [
    {
     "data": {
      "text/plain": [
       "(330.0, 329.67999267578125)"
      ]
     },
     "execution_count": 33,
     "metadata": {},
     "output_type": "execute_result"
    }
   ],
   "source": [
    "K = opt_valuar.strike\n",
    "S0 = closes_msft['MSFT'].iloc[-1]\n",
    "K,S0"
   ]
  },
  {
   "cell_type": "code",
   "execution_count": 34,
   "id": "8765f7cc",
   "metadata": {},
   "outputs": [
    {
     "data": {
      "image/png": "[encoded data removed]",
      "text/plain": [
       "<Figure size 432x288 with 1 Axes>"
      ]
     },
     "metadata": {
      "needs_background": "light"
     },
     "output_type": "display_data"
    }
   ],
   "source": [
    "# Definir barrera\n",
    "B = 380\n",
    "# Crear función indicadora\n",
    "I = (sim_closes < B).cumprod(axis=0) > 0\n",
    "# Definir strike\n",
    "strike = K\n",
    "# Calcular la prima de una opción Europea\n",
    "put = pd.DataFrame({'Prima Europea':np.exp(-r*ndays)*np.fmax(strike - sim_closes, 0)\n",
    "                     .mean(axis=1)},index=dates)\n",
    "# Calcular la prima de una opción barrera\n",
    "putui = pd.DataFrame({'Prima up-and-out':np.exp(-r*ndays)*(I * np.fmax(strike - sim_closes, 0))\n",
    "                       .mean(axis=1)},index=dates)\n",
    "# Graficar el resultado de las dos primas previamente valuadas\n",
    "ax = putui.plot();\n",
    "put.plot(ax=ax);"
   ]
  },
  {
   "cell_type": "markdown",
   "id": "cbf826b8",
   "metadata": {},
   "source": [
    "Como inversores, al tener un put, lo ideal es que la acción no suba. Pero en caso de que sí suba, podemos tener una opción barrera que desactive a la opción cuando esta suba a un valor mayor que el spot. De esta manera reducimos pérdidas y también se logra el objetivo que es abaratar a prima."
   ]
  },
  {
   "cell_type": "markdown",
   "id": "3e5c6fb5",
   "metadata": {},
   "source": [
    "## Código de solución estudiante 2: Jose Antonio"
   ]
  },
  {
   "cell_type": "code",
   "execution_count": null,
   "id": "bc533e05",
   "metadata": {},
   "outputs": [],
   "source": []
  }
 ],
 "metadata": {
  "kernelspec": {
   "display_name": "Python 3 (ipykernel)",
   "language": "python",
   "name": "python3"
  },
  "language_info": {
   "codemirror_mode": {
    "name": "ipython",
    "version": 3
   },
   "file_extension": ".py",
   "mimetype": "text/x-python",
   "name": "python",
   "nbconvert_exporter": "python",
   "pygments_lexer": "ipython3",
   "version": "3.8.12"
  }
 },
 "nbformat": 4,
 "nbformat_minor": 5
}
